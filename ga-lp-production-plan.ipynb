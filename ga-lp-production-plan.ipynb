{
 "cells": [
  {
   "cell_type": "code",
   "execution_count": 64,
   "metadata": {},
   "outputs": [],
   "source": [
    "import numpy as np\n",
    "from pymoo.algorithms.soo.nonconvex.ga import GA\n",
    "from pymoo.core.problem import Problem\n",
    "from pymoo.optimize import minimize\n",
    "from pymoo.operators.crossover.sbx import SBX\n",
    "from pymoo.operators.mutation.pm import PM\n",
    "from pymoo.operators.repair.rounding import RoundingRepair\n",
    "from pymoo.operators.sampling.rnd import IntegerRandomSampling"
   ]
  },
  {
   "cell_type": "code",
   "execution_count": 65,
   "metadata": {},
   "outputs": [],
   "source": [
    "class lpProduction(Problem):\n",
    "    \n",
    "    def __init__(self):\n",
    "        super().__init__(n_var = 1,\n",
    "                         n_obj = 1,\n",
    "                         n_ieq_constr = 3,\n",
    "                         xl = 0,\n",
    "                         xu = 1000000,\n",
    "                         vtype = int)\n",
    "        \n",
    "    def _evaluate(self, x, out, *args, **kwargs):\n",
    "        f1 = - (40 * x)\n",
    "        g1 = x - 40\n",
    "        g2 = x - 80\n",
    "        g3 = 2 * x - 100\n",
    "        out[\"F\"] = [f1]\n",
    "        out[\"G\"] = [g1,g2,g3]"
   ]
  },
  {
   "cell_type": "code",
   "execution_count": 66,
   "metadata": {},
   "outputs": [],
   "source": [
    "problem = lpProduction()"
   ]
  },
  {
   "cell_type": "code",
   "execution_count": 67,
   "metadata": {},
   "outputs": [],
   "source": [
    "method = GA(\n",
    "    pop_size=20,\n",
    "    sampling=IntegerRandomSampling(),\n",
    "    crossover=SBX(prob = 1.0, eta = 3.0, vtype = float, repair = RoundingRepair()),\n",
    "    mutation=PM(prob=1.0,eta=3.0,vtype=float,repair=RoundingRepair()),\n",
    "    eliminate_duplicates=True\n",
    ")"
   ]
  },
  {
   "cell_type": "code",
   "execution_count": 68,
   "metadata": {},
   "outputs": [
    {
     "name": "stdout",
     "output_type": "stream",
     "text": [
      "=================================================================================\n",
      "n_gen  |  n_eval  |     cv_min    |     cv_avg    |     f_avg     |     f_min    \n",
      "=================================================================================\n",
      "     1 |       20 |  2.360000E+02 |  1.468903E+06 |             - |             -\n",
      "     2 |       40 |  0.000000E+00 |  4.788108E+05 | -3.600000E+02 | -6.400000E+02\n",
      "     3 |       60 |  0.000000E+00 |  1.042165E+05 | -2.533333E+02 | -6.400000E+02\n",
      "     4 |       80 |  0.000000E+00 |  1.264270E+04 | -2.066667E+02 | -6.400000E+02\n",
      "     5 |      100 |  0.000000E+00 |  4.643500E+02 | -2.114286E+02 | -6.400000E+02\n",
      "     6 |      120 |  0.000000E+00 |  2.625000E+01 | -5.200000E+02 | -1.320000E+03\n",
      "     7 |      140 |  0.000000E+00 |  0.000000E+00 | -7.380000E+02 | -1.360000E+03\n",
      "     8 |      160 |  0.000000E+00 |  0.000000E+00 | -9.760000E+02 | -1.520000E+03\n",
      "     9 |      180 |  0.000000E+00 |  0.000000E+00 | -1.054000E+03 | -1.560000E+03\n",
      "    10 |      200 |  0.000000E+00 |  0.000000E+00 | -1.078000E+03 | -1.560000E+03\n",
      "    11 |      220 |  0.000000E+00 |  0.000000E+00 | -1.146000E+03 | -1.560000E+03\n",
      "    12 |      240 |  0.000000E+00 |  0.000000E+00 | -1.180000E+03 | -1.560000E+03\n",
      "    13 |      260 |  0.000000E+00 |  0.000000E+00 | -1.180000E+03 | -1.560000E+03\n",
      "    14 |      280 |  0.000000E+00 |  0.000000E+00 | -1.220000E+03 | -1.600000E+03\n",
      "    15 |      300 |  0.000000E+00 |  0.000000E+00 | -1.220000E+03 | -1.600000E+03\n",
      "    16 |      320 |  0.000000E+00 |  0.000000E+00 | -1.220000E+03 | -1.600000E+03\n",
      "    17 |      340 |  0.000000E+00 |  0.000000E+00 | -1.220000E+03 | -1.600000E+03\n",
      "    18 |      360 |  0.000000E+00 |  0.000000E+00 | -1.220000E+03 | -1.600000E+03\n",
      "    19 |      380 |  0.000000E+00 |  0.000000E+00 | -1.220000E+03 | -1.600000E+03\n",
      "    20 |      400 |  0.000000E+00 |  0.000000E+00 | -1.220000E+03 | -1.600000E+03\n",
      "    21 |      420 |  0.000000E+00 |  0.000000E+00 | -1.220000E+03 | -1.600000E+03\n",
      "    22 |      440 |  0.000000E+00 |  0.000000E+00 | -1.220000E+03 | -1.600000E+03\n",
      "    23 |      460 |  0.000000E+00 |  0.000000E+00 | -1.220000E+03 | -1.600000E+03\n",
      "    24 |      480 |  0.000000E+00 |  0.000000E+00 | -1.220000E+03 | -1.600000E+03\n",
      "    25 |      500 |  0.000000E+00 |  0.000000E+00 | -1.220000E+03 | -1.600000E+03\n",
      "    26 |      520 |  0.000000E+00 |  0.000000E+00 | -1.220000E+03 | -1.600000E+03\n",
      "    27 |      540 |  0.000000E+00 |  0.000000E+00 | -1.220000E+03 | -1.600000E+03\n",
      "    28 |      560 |  0.000000E+00 |  0.000000E+00 | -1.220000E+03 | -1.600000E+03\n",
      "    29 |      580 |  0.000000E+00 |  0.000000E+00 | -1.220000E+03 | -1.600000E+03\n",
      "    30 |      600 |  0.000000E+00 |  0.000000E+00 | -1.220000E+03 | -1.600000E+03\n",
      "    31 |      620 |  0.000000E+00 |  0.000000E+00 | -1.220000E+03 | -1.600000E+03\n",
      "    32 |      640 |  0.000000E+00 |  0.000000E+00 | -1.220000E+03 | -1.600000E+03\n",
      "    33 |      660 |  0.000000E+00 |  0.000000E+00 | -1.220000E+03 | -1.600000E+03\n",
      "    34 |      680 |  0.000000E+00 |  0.000000E+00 | -1.220000E+03 | -1.600000E+03\n",
      "    35 |      700 |  0.000000E+00 |  0.000000E+00 | -1.220000E+03 | -1.600000E+03\n",
      "    36 |      720 |  0.000000E+00 |  0.000000E+00 | -1.220000E+03 | -1.600000E+03\n",
      "    37 |      740 |  0.000000E+00 |  0.000000E+00 | -1.220000E+03 | -1.600000E+03\n",
      "    38 |      760 |  0.000000E+00 |  0.000000E+00 | -1.220000E+03 | -1.600000E+03\n",
      "    39 |      780 |  0.000000E+00 |  0.000000E+00 | -1.220000E+03 | -1.600000E+03\n",
      "    40 |      800 |  0.000000E+00 |  0.000000E+00 | -1.220000E+03 | -1.600000E+03\n"
     ]
    }
   ],
   "source": [
    "res = minimize(problem,\n",
    "               method,\n",
    "               termination=('n_gen',40),\n",
    "               seed = 1,\n",
    "               verbose = True)"
   ]
  },
  {
   "cell_type": "code",
   "execution_count": 69,
   "metadata": {},
   "outputs": [
    {
     "data": {
      "text/plain": [
       "array([-1600.])"
      ]
     },
     "execution_count": 69,
     "metadata": {},
     "output_type": "execute_result"
    }
   ],
   "source": [
    "res.F"
   ]
  },
  {
   "cell_type": "code",
   "execution_count": 70,
   "metadata": {},
   "outputs": [
    {
     "data": {
      "text/plain": [
       "array([40])"
      ]
     },
     "execution_count": 70,
     "metadata": {},
     "output_type": "execute_result"
    }
   ],
   "source": [
    "res.X"
   ]
  }
 ],
 "metadata": {
  "kernelspec": {
   "display_name": "pymoo",
   "language": "python",
   "name": "python3"
  },
  "language_info": {
   "codemirror_mode": {
    "name": "ipython",
    "version": 3
   },
   "file_extension": ".py",
   "mimetype": "text/x-python",
   "name": "python",
   "nbconvert_exporter": "python",
   "pygments_lexer": "ipython3",
   "version": "3.9.16"
  },
  "orig_nbformat": 4,
  "vscode": {
   "interpreter": {
    "hash": "9a0752c6cb6d0e39249b8aa447fbf97c7c12e378813659b607006c73d3ab0c8a"
   }
  }
 },
 "nbformat": 4,
 "nbformat_minor": 2
}
