{
 "cells": [
  {
   "cell_type": "code",
   "execution_count": 2,
   "metadata": {},
   "outputs": [],
   "source": [
    "import numpy as np\n",
    "from pymoo.core.problem import ElementwiseProblem"
   ]
  },
  {
   "attachments": {},
   "cell_type": "markdown",
   "metadata": {},
   "source": [
    "## Defining Problem Object"
   ]
  },
  {
   "cell_type": "code",
   "execution_count": 3,
   "metadata": {},
   "outputs": [],
   "source": [
    "class MyProblem(ElementwiseProblem):\n",
    "    \n",
    "    def __init__(self):\n",
    "        super().__init__(n_var = 2,\n",
    "                         n_obj = 2,\n",
    "                         n_ieq_constr = 2,\n",
    "                         xl = np.array([-2,-2]),\n",
    "                         xu = np.array([2,2])\n",
    "                         )\n",
    "        \n",
    "    def _evaluate(self, x, out, *args, **kwargs):\n",
    "        # Objective Function\n",
    "        f1 = 100 * (x[0]**2 + x[1]**2)\n",
    "        f2 = (x[0] - 1)**2 + x[1]**2\n",
    "        \n",
    "        # Constraints\n",
    "        g1 = 2 * (x[0] - 0.1) * (x[0] - 0.9) / 0.18\n",
    "        g2 = - 20 * (x[0] - 0.4) * (x[0] - 0.6) / 0.48\n",
    "        \n",
    "        # Outputs\n",
    "        out[\"F\"] = [f1,f2]\n",
    "        out[\"G\"] = [g1,g2]\n",
    "    \n",
    "    \n",
    "problem = MyProblem()"
   ]
  },
  {
   "attachments": {},
   "cell_type": "markdown",
   "metadata": {},
   "source": [
    "## Defining Algorithm Object"
   ]
  },
  {
   "cell_type": "code",
   "execution_count": 4,
   "metadata": {},
   "outputs": [],
   "source": [
    "from pymoo.algorithms.moo.nsga2 import NSGA2\n",
    "from pymoo.operators.crossover.sbx import SBX\n",
    "from pymoo.operators.mutation.pm import PM\n",
    "from pymoo.operators.sampling.rnd import FloatRandomSampling\n",
    "\n",
    "\n",
    "algorithm = NSGA2(\n",
    "    pop_size = 40,\n",
    "    n_offspring = 10,\n",
    "    sampling = FloatRandomSampling(),\n",
    "    crossover = SBX(prob=0.9, eta=15),\n",
    "    mutation = PM(eta=20),\n",
    "    eliminate_duplicates = True\n",
    ")"
   ]
  },
  {
   "attachments": {},
   "cell_type": "markdown",
   "metadata": {},
   "source": [
    "## Termination Criteria"
   ]
  },
  {
   "cell_type": "code",
   "execution_count": 7,
   "metadata": {},
   "outputs": [],
   "source": [
    "from pymoo.termination import get_termination\n",
    "\n",
    "termination = get_termination(\"n_gen\", 40)"
   ]
  },
  {
   "attachments": {},
   "cell_type": "markdown",
   "metadata": {},
   "source": [
    "## Optimize"
   ]
  },
  {
   "cell_type": "code",
   "execution_count": 8,
   "metadata": {},
   "outputs": [
    {
     "name": "stdout",
     "output_type": "stream",
     "text": [
      "==========================================================================================\n",
      "n_gen  |  n_eval  | n_nds  |     cv_min    |     cv_avg    |      eps      |   indicator  \n",
      "==========================================================================================\n",
      "     1 |       40 |      1 |  0.000000E+00 |  2.363992E+01 |             - |             -\n",
      "     2 |       80 |      2 |  0.000000E+00 |  2.6773624938 |  1.0000000000 |         ideal\n",
      "     3 |      120 |      5 |  0.000000E+00 |  0.0743864902 |  0.1598920481 |         ideal\n",
      "     4 |      160 |      8 |  0.000000E+00 |  0.000000E+00 |  0.1153398028 |         ideal\n",
      "     5 |      200 |     17 |  0.000000E+00 |  0.000000E+00 |  0.0603241976 |         ideal\n",
      "     6 |      240 |     23 |  0.000000E+00 |  0.000000E+00 |  0.0054158295 |             f\n",
      "     7 |      280 |     31 |  0.000000E+00 |  0.000000E+00 |  0.0165049454 |         nadir\n",
      "     8 |      320 |     37 |  0.000000E+00 |  0.000000E+00 |  0.0047090587 |             f\n",
      "     9 |      360 |     40 |  0.000000E+00 |  0.000000E+00 |  0.0274192812 |         nadir\n",
      "    10 |      400 |     40 |  0.000000E+00 |  0.000000E+00 |  0.0066601695 |         nadir\n",
      "    11 |      440 |     40 |  0.000000E+00 |  0.000000E+00 |  0.0099489096 |         ideal\n",
      "    12 |      480 |     40 |  0.000000E+00 |  0.000000E+00 |  0.0032317053 |         ideal\n",
      "    13 |      520 |     40 |  0.000000E+00 |  0.000000E+00 |  0.0021066978 |             f\n",
      "    14 |      560 |     40 |  0.000000E+00 |  0.000000E+00 |  0.0026648831 |             f\n",
      "    15 |      600 |     40 |  0.000000E+00 |  0.000000E+00 |  0.0015975373 |             f\n",
      "    16 |      640 |     40 |  0.000000E+00 |  0.000000E+00 |  0.0024181468 |             f\n",
      "    17 |      680 |     40 |  0.000000E+00 |  0.000000E+00 |  0.0032437453 |             f\n",
      "    18 |      720 |     40 |  0.000000E+00 |  0.000000E+00 |  0.0036951231 |             f\n",
      "    19 |      760 |     40 |  0.000000E+00 |  0.000000E+00 |  0.0010132330 |             f\n",
      "    20 |      800 |     40 |  0.000000E+00 |  0.000000E+00 |  0.0020591079 |             f\n",
      "    21 |      840 |     40 |  0.000000E+00 |  0.000000E+00 |  0.0042201046 |             f\n",
      "    22 |      880 |     40 |  0.000000E+00 |  0.000000E+00 |  0.0008160384 |             f\n",
      "    23 |      920 |     40 |  0.000000E+00 |  0.000000E+00 |  0.0036768447 |             f\n",
      "    24 |      960 |     40 |  0.000000E+00 |  0.000000E+00 |  0.0018504022 |             f\n",
      "    25 |     1000 |     40 |  0.000000E+00 |  0.000000E+00 |  0.0023336496 |             f\n",
      "    26 |     1040 |     40 |  0.000000E+00 |  0.000000E+00 |  0.0026175760 |             f\n",
      "    27 |     1080 |     40 |  0.000000E+00 |  0.000000E+00 |  0.0019433295 |             f\n",
      "    28 |     1120 |     40 |  0.000000E+00 |  0.000000E+00 |  0.0021461574 |             f\n",
      "    29 |     1160 |     40 |  0.000000E+00 |  0.000000E+00 |  0.0027552002 |             f\n",
      "    30 |     1200 |     40 |  0.000000E+00 |  0.000000E+00 |  0.0013825213 |             f\n",
      "    31 |     1240 |     40 |  0.000000E+00 |  0.000000E+00 |  0.0030916305 |             f\n",
      "    32 |     1280 |     40 |  0.000000E+00 |  0.000000E+00 |  0.0017379475 |             f\n",
      "    33 |     1320 |     40 |  0.000000E+00 |  0.000000E+00 |  0.0025165008 |             f\n",
      "    34 |     1360 |     40 |  0.000000E+00 |  0.000000E+00 |  0.0018798595 |             f\n",
      "    35 |     1400 |     40 |  0.000000E+00 |  0.000000E+00 |  0.0028351842 |             f\n",
      "    36 |     1440 |     40 |  0.000000E+00 |  0.000000E+00 |  0.0019391130 |             f\n",
      "    37 |     1480 |     40 |  0.000000E+00 |  0.000000E+00 |  0.0034461071 |             f\n",
      "    38 |     1520 |     40 |  0.000000E+00 |  0.000000E+00 |  0.0118642449 |         nadir\n",
      "    39 |     1560 |     40 |  0.000000E+00 |  0.000000E+00 |  0.0019356458 |             f\n",
      "    40 |     1600 |     40 |  0.000000E+00 |  0.000000E+00 |  0.0023630626 |             f\n"
     ]
    }
   ],
   "source": [
    "from pymoo.optimize import minimize\n",
    "\n",
    "res = minimize(problem,\n",
    "               algorithm,\n",
    "               termination,\n",
    "               seed = 1,\n",
    "               save_history = True,\n",
    "               verbose = True)\n",
    "\n",
    "X = res.X\n",
    "F = res.F"
   ]
  },
  {
   "cell_type": "code",
   "execution_count": 9,
   "metadata": {},
   "outputs": [
    {
     "data": {
      "image/png": "[encoded data removed]",
      "text/plain": [
       "<Figure size 700x500 with 1 Axes>"
      ]
     },
     "metadata": {},
     "output_type": "display_data"
    }
   ],
   "source": [
    "import matplotlib.pyplot as plt\n",
    "\n",
    "xl,xu = problem.bounds()\n",
    "plt.figure(figsize=(7,5))\n",
    "plt.scatter(X[:,0], X[:, 1], s=30, facecolors = 'none', edgecolors= 'r')\n",
    "plt.xlim(xl[0],xu[0])\n",
    "plt.ylim(xl[1],xu[1])\n",
    "plt.title(\"Design Space\")\n",
    "plt.show()"
   ]
  },
  {
   "cell_type": "code",
   "execution_count": 11,
   "metadata": {},
   "outputs": [
    {
     "data": {
      "image/png": "[encoded data removed]",
      "text/plain": [
       "<Figure size 700x500 with 1 Axes>"
      ]
     },
     "metadata": {},
     "output_type": "display_data"
    }
   ],
   "source": [
    "F = res.F\n",
    "xl, xu = problem.bounds()\n",
    "plt.figure(figsize=(7, 5))\n",
    "plt.scatter(F[:, 0], F[:, 1], s=30, facecolors='none', edgecolors='blue')\n",
    "plt.title(\"Objective Space\")\n",
    "plt.show()"
   ]
  },
  {
   "cell_type": "code",
   "execution_count": 12,
   "metadata": {},
   "outputs": [
    {
     "data": {
      "text/plain": [
       "array([[ 8.99944952e-01, -2.84719669e-03],\n",
       "       [ 1.00732585e-01, -2.61075723e-03],\n",
       "       [ 6.03229994e-01, -2.11887105e-02],\n",
       "       [ 3.97477415e-01, -9.13965628e-04],\n",
       "       [ 1.63686257e-01,  4.85657654e-03],\n",
       "       [ 2.14064203e-01,  5.31622114e-03],\n",
       "       [ 1.40175740e-01, -3.63202249e-03],\n",
       "       [ 7.77745936e-01, -1.18316469e-03],\n",
       "       [ 6.95561222e-01,  9.58414296e-02],\n",
       "       [ 3.25292910e-01, -2.71622426e-03],\n",
       "       [ 3.02194798e-01, -8.03890911e-03],\n",
       "       [ 6.49356206e-01, -2.80795018e-03],\n",
       "       [ 3.66503955e-01,  5.31622114e-03],\n",
       "       [ 3.81765822e-01, -2.70270753e-03],\n",
       "       [ 6.75354588e-01, -2.80795018e-03],\n",
       "       [ 6.32004120e-01,  5.47386496e-03],\n",
       "       [ 1.89792806e-01, -3.08789694e-03],\n",
       "       [ 8.85164402e-01,  3.42542683e-04],\n",
       "       [ 7.54040952e-01,  6.42719567e-03],\n",
       "       [ 8.29857008e-01, -2.82256866e-03],\n",
       "       [ 6.19334632e-01, -1.76980946e-03],\n",
       "       [ 3.50584698e-01, -8.54455456e-02],\n",
       "       [ 7.37969532e-01, -2.44369504e-02],\n",
       "       [ 1.22776577e-01, -2.38417833e-02],\n",
       "       [ 2.80159777e-01, -5.50319882e-02],\n",
       "       [ 1.84539150e-01, -4.36214874e-03],\n",
       "       [ 6.65130644e-01, -2.23641867e-02],\n",
       "       [ 3.38356699e-01, -2.49786479e-03],\n",
       "       [ 7.20532251e-01, -1.18316469e-03],\n",
       "       [ 7.12700761e-01, -1.76980946e-03],\n",
       "       [ 2.32913128e-01,  5.31622114e-03],\n",
       "       [ 8.58939396e-01,  9.72546875e-04],\n",
       "       [ 2.64745650e-01,  1.34692535e-02],\n",
       "       [ 8.10081374e-01, -2.82261600e-03],\n",
       "       [ 2.91288158e-01,  5.38494178e-03],\n",
       "       [ 7.93385737e-01,  3.42676375e-04],\n",
       "       [ 8.43225097e-01, -2.82256866e-03],\n",
       "       [ 2.38866599e-01, -2.38417833e-02],\n",
       "       [ 1.12407470e-01, -2.61075723e-03],\n",
       "       [ 8.70531279e-01,  3.42676375e-04]])"
      ]
     },
     "execution_count": 12,
     "metadata": {},
     "output_type": "execute_result"
    }
   ],
   "source": [
    "X"
   ]
  },
  {
   "cell_type": "code",
   "execution_count": null,
   "metadata": {},
   "outputs": [],
   "source": []
  }
 ],
 "metadata": {
  "kernelspec": {
   "display_name": "pymoo",
   "language": "python",
   "name": "python3"
  },
  "language_info": {
   "codemirror_mode": {
    "name": "ipython",
    "version": 3
   },
   "file_extension": ".py",
   "mimetype": "text/x-python",
   "name": "python",
   "nbconvert_exporter": "python",
   "pygments_lexer": "ipython3",
   "version": "3.9.16"
  },
  "orig_nbformat": 4,
  "vscode": {
   "interpreter": {
    "hash": "9a0752c6cb6d0e39249b8aa447fbf97c7c12e378813659b607006c73d3ab0c8a"
   }
  }
 },
 "nbformat": 4,
 "nbformat_minor": 2
}
